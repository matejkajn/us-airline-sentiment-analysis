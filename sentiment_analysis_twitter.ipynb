{
 "cells": [
  {
   "cell_type": "code",
   "execution_count": 1,
   "id": "91e89ff0330f1887",
   "metadata": {
    "collapsed": false,
    "jupyter": {
     "outputs_hidden": false
    }
   },
   "outputs": [
    {
     "name": "stdout",
     "output_type": "stream",
     "text": [
      "['/Users/jonasis/nltk_data', '/opt/anaconda3/nltk_data', '/opt/anaconda3/share/nltk_data', '/opt/anaconda3/lib/nltk_data', '/usr/share/nltk_data', '/usr/local/share/nltk_data', '/usr/lib/nltk_data', '/usr/local/lib/nltk_data']\n"
     ]
    },
    {
     "name": "stderr",
     "output_type": "stream",
     "text": [
      "[nltk_data] Downloading package stopwords to\n",
      "[nltk_data]     /Users/jonasis/nltk_data...\n",
      "[nltk_data]   Package stopwords is already up-to-date!\n",
      "[nltk_data] Downloading package punkt to /Users/jonasis/nltk_data...\n",
      "[nltk_data]   Package punkt is already up-to-date!\n",
      "[nltk_data] Downloading package wordnet to /Users/jonasis/nltk_data...\n",
      "[nltk_data]   Package wordnet is already up-to-date!\n",
      "[nltk_data] Downloading package averaged_perceptron_tagger to\n",
      "[nltk_data]     /Users/jonasis/nltk_data...\n",
      "[nltk_data]   Package averaged_perceptron_tagger is already up-to-\n",
      "[nltk_data]       date!\n"
     ]
    }
   ],
   "source": [
    "import re\n",
    "import nltk\n",
    "import emoji\n",
    "import contractions\n",
    "import pandas as pd\n",
    "import numpy as np\n",
    "import matplotlib.pyplot as plt\n",
    "from textblob import TextBlob\n",
    "from nltk.corpus import stopwords\n",
    "from sklearn.model_selection import train_test_split\n",
    "from sklearn.metrics import confusion_matrix, ConfusionMatrixDisplay\n",
    "\n",
    "nltk.download('stopwords')\n",
    "nltk.download('punkt')\n",
    "nltk.download('wordnet')\n",
    "nltk.download('averaged_perceptron_tagger')\n",
    "\n",
    "print(nltk.data.path)"
   ]
  },
  {
   "cell_type": "markdown",
   "id": "ae7439e398850374",
   "metadata": {
    "collapsed": false,
    "jupyter": {
     "outputs_hidden": false
    }
   },
   "source": [
    "## Load dataset\n",
    "https://www.kaggle.com/datasets/crowdflower/twitter-airline-sentiment/data"
   ]
  },
  {
   "cell_type": "code",
   "execution_count": 3,
   "id": "495e873375c8598",
   "metadata": {
    "collapsed": false,
    "jupyter": {
     "outputs_hidden": false
    }
   },
   "outputs": [],
   "source": [
    "df = pd.read_csv('data/airline_tweets.csv')"
   ]
  },
  {
   "cell_type": "code",
   "execution_count": 4,
   "id": "69b1ac757d875722",
   "metadata": {
    "collapsed": false,
    "jupyter": {
     "outputs_hidden": false
    }
   },
   "outputs": [
    {
     "data": {
      "text/html": [
       "<div>\n",
       "<style scoped>\n",
       "    .dataframe tbody tr th:only-of-type {\n",
       "        vertical-align: middle;\n",
       "    }\n",
       "\n",
       "    .dataframe tbody tr th {\n",
       "        vertical-align: top;\n",
       "    }\n",
       "\n",
       "    .dataframe thead th {\n",
       "        text-align: right;\n",
       "    }\n",
       "</style>\n",
       "<table border=\"1\" class=\"dataframe\">\n",
       "  <thead>\n",
       "    <tr style=\"text-align: right;\">\n",
       "      <th></th>\n",
       "      <th>tweet_id</th>\n",
       "      <th>airline_sentiment</th>\n",
       "      <th>airline_sentiment_confidence</th>\n",
       "      <th>negativereason</th>\n",
       "      <th>negativereason_confidence</th>\n",
       "      <th>airline</th>\n",
       "      <th>airline_sentiment_gold</th>\n",
       "      <th>name</th>\n",
       "      <th>negativereason_gold</th>\n",
       "      <th>retweet_count</th>\n",
       "      <th>text</th>\n",
       "      <th>tweet_coord</th>\n",
       "      <th>tweet_created</th>\n",
       "      <th>tweet_location</th>\n",
       "      <th>user_timezone</th>\n",
       "    </tr>\n",
       "  </thead>\n",
       "  <tbody>\n",
       "    <tr>\n",
       "      <th>0</th>\n",
       "      <td>570306133677760513</td>\n",
       "      <td>neutral</td>\n",
       "      <td>1.0000</td>\n",
       "      <td>NaN</td>\n",
       "      <td>NaN</td>\n",
       "      <td>Virgin America</td>\n",
       "      <td>NaN</td>\n",
       "      <td>cairdin</td>\n",
       "      <td>NaN</td>\n",
       "      <td>0</td>\n",
       "      <td>@VirginAmerica What @dhepburn said.</td>\n",
       "      <td>NaN</td>\n",
       "      <td>2015-02-24 11:35:52 -0800</td>\n",
       "      <td>NaN</td>\n",
       "      <td>Eastern Time (US &amp; Canada)</td>\n",
       "    </tr>\n",
       "    <tr>\n",
       "      <th>1</th>\n",
       "      <td>570301130888122368</td>\n",
       "      <td>positive</td>\n",
       "      <td>0.3486</td>\n",
       "      <td>NaN</td>\n",
       "      <td>0.0000</td>\n",
       "      <td>Virgin America</td>\n",
       "      <td>NaN</td>\n",
       "      <td>jnardino</td>\n",
       "      <td>NaN</td>\n",
       "      <td>0</td>\n",
       "      <td>@VirginAmerica plus you've added commercials t...</td>\n",
       "      <td>NaN</td>\n",
       "      <td>2015-02-24 11:15:59 -0800</td>\n",
       "      <td>NaN</td>\n",
       "      <td>Pacific Time (US &amp; Canada)</td>\n",
       "    </tr>\n",
       "    <tr>\n",
       "      <th>2</th>\n",
       "      <td>570301083672813571</td>\n",
       "      <td>neutral</td>\n",
       "      <td>0.6837</td>\n",
       "      <td>NaN</td>\n",
       "      <td>NaN</td>\n",
       "      <td>Virgin America</td>\n",
       "      <td>NaN</td>\n",
       "      <td>yvonnalynn</td>\n",
       "      <td>NaN</td>\n",
       "      <td>0</td>\n",
       "      <td>@VirginAmerica I didn't today... Must mean I n...</td>\n",
       "      <td>NaN</td>\n",
       "      <td>2015-02-24 11:15:48 -0800</td>\n",
       "      <td>Lets Play</td>\n",
       "      <td>Central Time (US &amp; Canada)</td>\n",
       "    </tr>\n",
       "    <tr>\n",
       "      <th>3</th>\n",
       "      <td>570301031407624196</td>\n",
       "      <td>negative</td>\n",
       "      <td>1.0000</td>\n",
       "      <td>Bad Flight</td>\n",
       "      <td>0.7033</td>\n",
       "      <td>Virgin America</td>\n",
       "      <td>NaN</td>\n",
       "      <td>jnardino</td>\n",
       "      <td>NaN</td>\n",
       "      <td>0</td>\n",
       "      <td>@VirginAmerica it's really aggressive to blast...</td>\n",
       "      <td>NaN</td>\n",
       "      <td>2015-02-24 11:15:36 -0800</td>\n",
       "      <td>NaN</td>\n",
       "      <td>Pacific Time (US &amp; Canada)</td>\n",
       "    </tr>\n",
       "    <tr>\n",
       "      <th>4</th>\n",
       "      <td>570300817074462722</td>\n",
       "      <td>negative</td>\n",
       "      <td>1.0000</td>\n",
       "      <td>Can't Tell</td>\n",
       "      <td>1.0000</td>\n",
       "      <td>Virgin America</td>\n",
       "      <td>NaN</td>\n",
       "      <td>jnardino</td>\n",
       "      <td>NaN</td>\n",
       "      <td>0</td>\n",
       "      <td>@VirginAmerica and it's a really big bad thing...</td>\n",
       "      <td>NaN</td>\n",
       "      <td>2015-02-24 11:14:45 -0800</td>\n",
       "      <td>NaN</td>\n",
       "      <td>Pacific Time (US &amp; Canada)</td>\n",
       "    </tr>\n",
       "  </tbody>\n",
       "</table>\n",
       "</div>"
      ],
      "text/plain": [
       "             tweet_id airline_sentiment  airline_sentiment_confidence  \\\n",
       "0  570306133677760513           neutral                        1.0000   \n",
       "1  570301130888122368          positive                        0.3486   \n",
       "2  570301083672813571           neutral                        0.6837   \n",
       "3  570301031407624196          negative                        1.0000   \n",
       "4  570300817074462722          negative                        1.0000   \n",
       "\n",
       "  negativereason  negativereason_confidence         airline  \\\n",
       "0            NaN                        NaN  Virgin America   \n",
       "1            NaN                     0.0000  Virgin America   \n",
       "2            NaN                        NaN  Virgin America   \n",
       "3     Bad Flight                     0.7033  Virgin America   \n",
       "4     Can't Tell                     1.0000  Virgin America   \n",
       "\n",
       "  airline_sentiment_gold        name negativereason_gold  retweet_count  \\\n",
       "0                    NaN     cairdin                 NaN              0   \n",
       "1                    NaN    jnardino                 NaN              0   \n",
       "2                    NaN  yvonnalynn                 NaN              0   \n",
       "3                    NaN    jnardino                 NaN              0   \n",
       "4                    NaN    jnardino                 NaN              0   \n",
       "\n",
       "                                                text tweet_coord  \\\n",
       "0                @VirginAmerica What @dhepburn said.         NaN   \n",
       "1  @VirginAmerica plus you've added commercials t...         NaN   \n",
       "2  @VirginAmerica I didn't today... Must mean I n...         NaN   \n",
       "3  @VirginAmerica it's really aggressive to blast...         NaN   \n",
       "4  @VirginAmerica and it's a really big bad thing...         NaN   \n",
       "\n",
       "               tweet_created tweet_location               user_timezone  \n",
       "0  2015-02-24 11:35:52 -0800            NaN  Eastern Time (US & Canada)  \n",
       "1  2015-02-24 11:15:59 -0800            NaN  Pacific Time (US & Canada)  \n",
       "2  2015-02-24 11:15:48 -0800      Lets Play  Central Time (US & Canada)  \n",
       "3  2015-02-24 11:15:36 -0800            NaN  Pacific Time (US & Canada)  \n",
       "4  2015-02-24 11:14:45 -0800            NaN  Pacific Time (US & Canada)  "
      ]
     },
     "execution_count": 4,
     "metadata": {},
     "output_type": "execute_result"
    }
   ],
   "source": [
    "df.head()"
   ]
  },
  {
   "cell_type": "code",
   "execution_count": 5,
   "id": "19a868ddd9336513",
   "metadata": {
    "collapsed": false,
    "jupyter": {
     "outputs_hidden": false
    }
   },
   "outputs": [
    {
     "data": {
      "text/plain": [
       "(14640, 15)"
      ]
     },
     "execution_count": 5,
     "metadata": {},
     "output_type": "execute_result"
    }
   ],
   "source": [
    "df.shape"
   ]
  },
  {
   "cell_type": "code",
   "execution_count": 6,
   "id": "17bfd9ec9e21adf0",
   "metadata": {
    "collapsed": false,
    "jupyter": {
     "outputs_hidden": false
    }
   },
   "outputs": [],
   "source": [
    "df = df[['tweet_id', 'airline_sentiment', 'text']]"
   ]
  },
  {
   "cell_type": "code",
   "execution_count": 7,
   "id": "b97b89ac46d7b94d",
   "metadata": {
    "collapsed": false,
    "jupyter": {
     "outputs_hidden": false
    }
   },
   "outputs": [
    {
     "data": {
      "text/plain": [
       "(14640, 3)"
      ]
     },
     "execution_count": 7,
     "metadata": {},
     "output_type": "execute_result"
    }
   ],
   "source": [
    "df.shape"
   ]
  },
  {
   "cell_type": "code",
   "execution_count": 8,
   "id": "4970ea0ba2b04c3e",
   "metadata": {
    "collapsed": false,
    "jupyter": {
     "outputs_hidden": false
    }
   },
   "outputs": [
    {
     "data": {
      "image/png": "[encoded data removed]",
      "text/plain": [
       "<Figure size 640x480 with 1 Axes>"
      ]
     },
     "metadata": {},
     "output_type": "display_data"
    }
   ],
   "source": [
    "sentiment_counts = df['airline_sentiment'].value_counts()\n",
    "\n",
    "bar_container = plt.bar(sentiment_counts.index, sentiment_counts.values)\n",
    "\n",
    "plt.bar_label(bar_container)\n",
    "plt.xlabel('Sentiment')\n",
    "plt.ylabel('Count')\n",
    "plt.title('Contributors frequencies of sentiment values')\n",
    "plt.show()"
   ]
  },
  {
   "cell_type": "code",
   "execution_count": 9,
   "id": "eb6af7786767cf1e",
   "metadata": {
    "collapsed": false,
    "jupyter": {
     "outputs_hidden": false
    }
   },
   "outputs": [
    {
     "data": {
      "image/png": "[encoded data removed]",
      "text/plain": [
       "<Figure size 640x480 with 1 Axes>"
      ]
     },
     "metadata": {},
     "output_type": "display_data"
    }
   ],
   "source": [
    "sentiment_counts = df['airline_sentiment'].value_counts()\n",
    "\n",
    "sentiment_percentages = (sentiment_counts / sentiment_counts.sum()) * 100\n",
    "\n",
    "plt.pie(sentiment_percentages, labels=sentiment_percentages.index, autopct='%1.0f%%', startangle=140)\n",
    "plt.title('Contributors relative frequencies of sentiment values')\n",
    "plt.show()"
   ]
  },
  {
   "cell_type": "code",
   "execution_count": 10,
   "id": "5185083a7dcd746f",
   "metadata": {
    "collapsed": false,
    "jupyter": {
     "outputs_hidden": false
    }
   },
   "outputs": [
    {
     "name": "stdout",
     "output_type": "stream",
     "text": [
      "<class 'pandas.core.frame.DataFrame'>\n",
      "RangeIndex: 14640 entries, 0 to 14639\n",
      "Data columns (total 3 columns):\n",
      " #   Column             Non-Null Count  Dtype \n",
      "---  ------             --------------  ----- \n",
      " 0   tweet_id           14640 non-null  int64 \n",
      " 1   airline_sentiment  14640 non-null  object\n",
      " 2   text               14640 non-null  object\n",
      "dtypes: int64(1), object(2)\n",
      "memory usage: 343.3+ KB\n"
     ]
    }
   ],
   "source": [
    "df.info()"
   ]
  },
  {
   "cell_type": "markdown",
   "id": "1279265aabc61804",
   "metadata": {
    "collapsed": false,
    "jupyter": {
     "outputs_hidden": false
    }
   },
   "source": [
    "## Text preprocessing"
   ]
  },
  {
   "cell_type": "code",
   "execution_count": 12,
   "id": "f52a63066fc0b53a",
   "metadata": {
    "collapsed": false,
    "jupyter": {
     "outputs_hidden": false
    }
   },
   "outputs": [],
   "source": [
    "def normalize_text(txt):\n",
    "    # Lower casing\n",
    "    txt = txt.lower()\n",
    "\n",
    "    # Removing URLs\n",
    "    txt = re.sub(r'http\\S+|www.\\S+', '', txt)\n",
    "\n",
    "    # Removing HTML tags\n",
    "    txt = re.sub(r'<.*?>', '', txt)\n",
    "\n",
    "    # Remove punctuation\n",
    "    txt = re.sub(r'[^\\w\\s]', '', txt)\n",
    "\n",
    "    # Remove numbers\n",
    "    txt = re.sub(r'\\d+', '', txt)\n",
    "\n",
    "    # Remove extra spaces\n",
    "    txt = ' '.join(txt.split())\n",
    "\n",
    "    # Replacing repetitions of punctuation\n",
    "    txt = re.sub(r'(\\W)\\1+', r'\\1', txt)\n",
    "\n",
    "    # Converting emojis to text\n",
    "    txt = emoji.demojize(txt)\n",
    "\n",
    "    # Remove special characters once again\n",
    "    txt = re.sub(r\"[^\\w\\s]\", '', txt)\n",
    "\n",
    "    # Remove contractions\n",
    "    txt = contractions.fix(txt)\n",
    "\n",
    "    txt = TextBlob(txt)\n",
    "    # Tokenization and stopwords removal\n",
    "    txt_tokens = [word for word in txt.words if word not in stopwords.words('english')]\n",
    "\n",
    "    # Lemmatization\n",
    "    lemmatized_tokens = [word.lemmatize() for word in txt_tokens]\n",
    "\n",
    "    return ' '.join(lemmatized_tokens)"
   ]
  },
  {
   "cell_type": "code",
   "execution_count": 13,
   "id": "1b2df36431bb3715",
   "metadata": {
    "collapsed": false,
    "jupyter": {
     "outputs_hidden": false
    }
   },
   "outputs": [],
   "source": [
    "df['text_clean'] = df['text'].apply(lambda tweet: normalize_text(tweet))"
   ]
  },
  {
   "cell_type": "code",
   "execution_count": 14,
   "id": "f62b7f0ab593f9f3",
   "metadata": {
    "collapsed": false,
    "jupyter": {
     "outputs_hidden": false
    }
   },
   "outputs": [],
   "source": [
    "# Train test split\n",
    "train, test = train_test_split(df, test_size=0.3, random_state=42, shuffle=True)"
   ]
  },
  {
   "cell_type": "code",
   "execution_count": 15,
   "id": "aeb040b14d5e0e9b",
   "metadata": {
    "collapsed": false,
    "jupyter": {
     "outputs_hidden": false
    }
   },
   "outputs": [
    {
     "data": {
      "text/plain": [
       "(10248, 4)"
      ]
     },
     "execution_count": 15,
     "metadata": {},
     "output_type": "execute_result"
    }
   ],
   "source": [
    "train.shape"
   ]
  },
  {
   "cell_type": "code",
   "execution_count": 16,
   "id": "cb408809e688461f",
   "metadata": {
    "collapsed": false,
    "jupyter": {
     "outputs_hidden": false
    }
   },
   "outputs": [
    {
     "data": {
      "text/plain": [
       "(4392, 4)"
      ]
     },
     "execution_count": 16,
     "metadata": {},
     "output_type": "execute_result"
    }
   ],
   "source": [
    "test.shape"
   ]
  },
  {
   "cell_type": "markdown",
   "id": "457327181f932cfe",
   "metadata": {
    "collapsed": false,
    "jupyter": {
     "outputs_hidden": false
    }
   },
   "source": [
    "## Sentiment analysis"
   ]
  },
  {
   "cell_type": "code",
   "execution_count": 18,
   "id": "4a0de8597aece185",
   "metadata": {
    "collapsed": false,
    "jupyter": {
     "outputs_hidden": false
    }
   },
   "outputs": [],
   "source": [
    "def sentiment_analysis(polarity):\n",
    "    if polarity < 0:\n",
    "        return 'negative'\n",
    "    elif polarity == 0:\n",
    "        return 'neutral'\n",
    "    else:\n",
    "        return 'positive'\n",
    "    \n",
    "def get_polarity(text):\n",
    "    return TextBlob(text).sentiment.polarity\n",
    "    \n",
    "def get_subjectivity(text):\n",
    "    return TextBlob(text).sentiment.subjectivity"
   ]
  },
  {
   "cell_type": "code",
   "execution_count": 19,
   "id": "ef4100577731d33c",
   "metadata": {
    "collapsed": false,
    "jupyter": {
     "outputs_hidden": false
    }
   },
   "outputs": [],
   "source": [
    "df['subjectivity'] = df['text_clean'].apply(get_subjectivity)\n",
    "df['polarity'] = df['text_clean'].apply(get_polarity)\n",
    "df['blob_sentiment'] = df['polarity'].apply(sentiment_analysis)"
   ]
  },
  {
   "cell_type": "code",
   "execution_count": 20,
   "id": "b6566fcfe0b0b887",
   "metadata": {
    "collapsed": false,
    "jupyter": {
     "outputs_hidden": false
    }
   },
   "outputs": [
    {
     "data": {
      "image/png": "[encoded data removed]",
      "text/plain": [
       "<Figure size 640x480 with 1 Axes>"
      ]
     },
     "metadata": {},
     "output_type": "display_data"
    }
   ],
   "source": [
    "sentiment_order = ['negative', 'neutral', 'positive']\n",
    "sentiment_counts = df['blob_sentiment'].value_counts().reindex(sentiment_order, fill_value=0)\n",
    "\n",
    "bar_container = plt.bar(sentiment_counts.index, sentiment_counts.values)\n",
    "\n",
    "plt.bar_label(bar_container)\n",
    "plt.xlabel('Sentiment')\n",
    "plt.ylabel('Count')\n",
    "plt.title('TextBlob frequencies of sentiment values')\n",
    "\n",
    "plt.show()"
   ]
  },
  {
   "cell_type": "code",
   "execution_count": 21,
   "id": "7a2df310402861c2",
   "metadata": {
    "collapsed": false,
    "jupyter": {
     "outputs_hidden": false
    }
   },
   "outputs": [
    {
     "data": {
      "text/plain": [
       "count    14640.000000\n",
       "mean         0.045842\n",
       "std          0.314796\n",
       "min         -1.000000\n",
       "25%          0.000000\n",
       "50%          0.000000\n",
       "75%          0.200000\n",
       "max          1.000000\n",
       "Name: polarity, dtype: float64"
      ]
     },
     "execution_count": 21,
     "metadata": {},
     "output_type": "execute_result"
    }
   ],
   "source": [
    "df['polarity'].describe()"
   ]
  },
  {
   "cell_type": "code",
   "execution_count": 22,
   "id": "18330848169b46be",
   "metadata": {
    "collapsed": false,
    "jupyter": {
     "outputs_hidden": false
    }
   },
   "outputs": [
    {
     "data": {
      "text/plain": [
       "(array([[2997, 3532, 2649],\n",
       "        [ 289, 1822,  988],\n",
       "        [ 120,  479, 1764]]),\n",
       " array([[32.65417302, 38.4833297 , 28.86249728],\n",
       "        [ 9.3255889 , 58.79315908, 31.88125202],\n",
       "        [ 5.07829031, 20.27084215, 74.65086754]]),\n",
       " 0.4496584699453552)"
      ]
     },
     "execution_count": 22,
     "metadata": {},
     "output_type": "execute_result"
    }
   ],
   "source": [
    "cm = confusion_matrix(df['airline_sentiment'], df['blob_sentiment'], labels=['negative', 'neutral', 'positive'])\n",
    "\n",
    "# Convert to percentage\n",
    "cm_percentage = cm / cm.sum(axis=1, keepdims=True) * 100\n",
    "\n",
    "# Calculate accuracy\n",
    "accuracy = np.trace(cm) / np.sum(cm)\n",
    "\n",
    "cm, cm_percentage, accuracy"
   ]
  },
  {
   "cell_type": "code",
   "execution_count": 23,
   "id": "e5b0110ccef48600",
   "metadata": {
    "collapsed": false,
    "jupyter": {
     "outputs_hidden": false
    }
   },
   "outputs": [
    {
     "data": {
      "image/png": "[encoded data removed]",
      "text/plain": [
       "<Figure size 640x480 with 2 Axes>"
      ]
     },
     "metadata": {},
     "output_type": "display_data"
    }
   ],
   "source": [
    "cm_labels = ['negative', 'neutral', 'positive']\n",
    "\n",
    "disp = ConfusionMatrixDisplay(confusion_matrix=cm, display_labels=cm_labels)\n",
    "disp.plot(cmap='Blues', values_format=\"d\")\n",
    "plt.ylabel('True sentiment')\n",
    "plt.xlabel('Textblob sentiment')\n",
    "plt.title('TextBlob sentiment confusion matrix')\n",
    "\n",
    "plt.show()"
   ]
  },
  {
   "cell_type": "markdown",
   "id": "121df706de61808a",
   "metadata": {
    "collapsed": false,
    "jupyter": {
     "outputs_hidden": false
    }
   },
   "source": [
    "## Classifiers"
   ]
  },
  {
   "cell_type": "code",
   "execution_count": 25,
   "id": "2fef2a780180cd6f",
   "metadata": {
    "collapsed": false,
    "jupyter": {
     "outputs_hidden": false
    }
   },
   "outputs": [],
   "source": [
    "train_data = list(train[['text_clean', 'airline_sentiment']].itertuples(index=False, name=None))\n",
    "test_data = list(test[['text_clean', 'airline_sentiment']].itertuples(index=False, name=None))"
   ]
  },
  {
   "cell_type": "markdown",
   "id": "c24151210c6babb",
   "metadata": {
    "collapsed": false,
    "jupyter": {
     "outputs_hidden": false
    }
   },
   "source": [
    "### NaiveBayesClassifier"
   ]
  },
  {
   "cell_type": "code",
   "execution_count": 27,
   "id": "3ec8b0191db51d18",
   "metadata": {
    "collapsed": false,
    "jupyter": {
     "outputs_hidden": false
    }
   },
   "outputs": [],
   "source": [
    "from textblob.classifiers import NaiveBayesClassifier\n",
    "\n",
    "cl = NaiveBayesClassifier(train_data)"
   ]
  },
  {
   "cell_type": "code",
   "execution_count": 28,
   "id": "43d95472735ed5ca",
   "metadata": {
    "collapsed": false,
    "jupyter": {
     "outputs_hidden": false
    }
   },
   "outputs": [],
   "source": [
    "df['bayes_sentiment'] = df['text_clean'].apply(lambda tweet: cl.classify(tweet))"
   ]
  },
  {
   "cell_type": "code",
   "execution_count": 29,
   "id": "81c9600365da98ee",
   "metadata": {
    "collapsed": false,
    "jupyter": {
     "outputs_hidden": false
    }
   },
   "outputs": [
    {
     "data": {
      "text/plain": [
       "0.7873406193078324"
      ]
     },
     "execution_count": 29,
     "metadata": {},
     "output_type": "execute_result"
    }
   ],
   "source": [
    "cl.accuracy(test_data)"
   ]
  },
  {
   "cell_type": "code",
   "execution_count": 30,
   "id": "c17cd7b015e3b927",
   "metadata": {
    "collapsed": false,
    "jupyter": {
     "outputs_hidden": false
    }
   },
   "outputs": [
    {
     "name": "stdout",
     "output_type": "stream",
     "text": [
      "Most Informative Features\n",
      "      contains(favorite) = True           positi : negati =     31.8 : 1.0\n",
      "        contains(street) = True           neutra : negati =     29.7 : 1.0\n",
      "   contains(outstanding) = True           positi : negati =     26.7 : 1.0\n",
      "        contains(battle) = True           neutra : negati =     25.9 : 1.0\n",
      "       contains(awesome) = True           positi : neutra =     24.8 : 1.0\n",
      "     contains(beautiful) = True           positi : negati =     24.1 : 1.0\n",
      "      contains(flighted) = True           negati : positi =     24.1 : 1.0\n",
      "       contains(amazing) = True           positi : negati =     23.9 : 1.0\n",
      "         contains(kudos) = True           positi : negati =     23.4 : 1.0\n",
      "     contains(excellent) = True           positi : negati =     22.3 : 1.0\n"
     ]
    }
   ],
   "source": [
    "cl.show_informative_features()"
   ]
  },
  {
   "cell_type": "code",
   "execution_count": 31,
   "id": "36a89bfb400b43f6",
   "metadata": {
    "collapsed": false,
    "jupyter": {
     "outputs_hidden": false
    }
   },
   "outputs": [
    {
     "data": {
      "text/plain": [
       "'negative'"
      ]
     },
     "execution_count": 31,
     "metadata": {},
     "output_type": "execute_result"
    }
   ],
   "source": [
    "cl.classify(\"Today was a good flight\")"
   ]
  },
  {
   "cell_type": "code",
   "execution_count": 32,
   "id": "219bbb41fc51340b",
   "metadata": {
    "collapsed": false,
    "jupyter": {
     "outputs_hidden": false
    }
   },
   "outputs": [
    {
     "data": {
      "text/plain": [
       "'positive'"
      ]
     },
     "execution_count": 32,
     "metadata": {},
     "output_type": "execute_result"
    }
   ],
   "source": [
    "good_flight = TextBlob(\"Today was a good flight\").sentiment.polarity\n",
    "\n",
    "sentiment_analysis(good_flight)"
   ]
  },
  {
   "cell_type": "code",
   "execution_count": 33,
   "id": "5f8f7fdaaacf5cdc",
   "metadata": {
    "collapsed": false,
    "jupyter": {
     "outputs_hidden": false
    }
   },
   "outputs": [
    {
     "data": {
      "image/png": "[encoded data removed]",
      "text/plain": [
       "<Figure size 640x480 with 1 Axes>"
      ]
     },
     "metadata": {},
     "output_type": "display_data"
    }
   ],
   "source": [
    "sentiment_order = ['negative', 'neutral', 'positive']\n",
    "sentiment_counts = df['bayes_sentiment'].value_counts().reindex(sentiment_order, fill_value=0)\n",
    "\n",
    "bar_container = plt.bar(sentiment_counts.index, sentiment_counts.values)\n",
    "\n",
    "plt.bar_label(bar_container)\n",
    "plt.xlabel('Sentiment')\n",
    "plt.ylabel('Count')\n",
    "plt.title('NaiveBayes frequencies of sentiment values')\n",
    "\n",
    "plt.show()"
   ]
  },
  {
   "cell_type": "markdown",
   "id": "7f75c80b9425ed09",
   "metadata": {
    "collapsed": false,
    "jupyter": {
     "outputs_hidden": false
    }
   },
   "source": [
    "### MaxEntClassifier"
   ]
  },
  {
   "cell_type": "code",
   "execution_count": 35,
   "id": "765cf94883ad1db9",
   "metadata": {
    "collapsed": false,
    "jupyter": {
     "outputs_hidden": false
    }
   },
   "outputs": [],
   "source": [
    "from textblob.classifiers import MaxEntClassifier\n",
    "\n",
    "maxent = MaxEntClassifier(train_data)"
   ]
  },
  {
   "cell_type": "code",
   "execution_count": 36,
   "id": "75307ed5749aa39",
   "metadata": {
    "collapsed": false,
    "jupyter": {
     "outputs_hidden": false
    }
   },
   "outputs": [
    {
     "name": "stdout",
     "output_type": "stream",
     "text": [
      "  ==> Training (100 iterations)\n",
      "\n",
      "      Iteration    Log Likelihood    Accuracy\n",
      "      ---------------------------------------\n",
      "             1          -1.09861        0.163\n"
     ]
    },
    {
     "name": "stderr",
     "output_type": "stream",
     "text": [
      "/opt/anaconda3/lib/python3.11/site-packages/nltk/classify/maxent.py:1381: RuntimeWarning: overflow encountered in power\n",
      "  exp_nf_delta = 2**nf_delta\n",
      "/opt/anaconda3/lib/python3.11/site-packages/nltk/classify/maxent.py:1383: RuntimeWarning: invalid value encountered in multiply\n",
      "  sum1 = numpy.sum(exp_nf_delta * A, axis=0)\n",
      "/opt/anaconda3/lib/python3.11/site-packages/nltk/classify/maxent.py:1384: RuntimeWarning: invalid value encountered in multiply\n",
      "  sum2 = numpy.sum(nf_exp_nf_delta * A, axis=0)\n"
     ]
    },
    {
     "name": "stdout",
     "output_type": "stream",
     "text": [
      "         Final               nan        0.216\n"
     ]
    },
    {
     "data": {
      "text/plain": [
       "0.20127504553734063"
      ]
     },
     "execution_count": 36,
     "metadata": {},
     "output_type": "execute_result"
    }
   ],
   "source": [
    "maxent.accuracy(test_data)"
   ]
  },
  {
   "cell_type": "code",
   "execution_count": 37,
   "id": "8696ac88dfdb5c0d",
   "metadata": {
    "collapsed": false,
    "jupyter": {
     "outputs_hidden": false
    }
   },
   "outputs": [
    {
     "data": {
      "text/plain": [
       "'neutral'"
      ]
     },
     "execution_count": 37,
     "metadata": {},
     "output_type": "execute_result"
    }
   ],
   "source": [
    "maxent.classify(\"Today was a good flight\")"
   ]
  },
  {
   "cell_type": "markdown",
   "id": "80f0a4be9ce6dbc2",
   "metadata": {
    "collapsed": false,
    "jupyter": {
     "outputs_hidden": false
    }
   },
   "source": [
    "### DecisionTreeClassifier"
   ]
  },
  {
   "cell_type": "code",
   "execution_count": 39,
   "id": "c2a3e3a32b628b48",
   "metadata": {
    "collapsed": false,
    "jupyter": {
     "outputs_hidden": false
    }
   },
   "outputs": [],
   "source": [
    "from textblob.classifiers import DecisionTreeClassifier\n",
    "\n",
    "dtc = DecisionTreeClassifier(train_data)"
   ]
  },
  {
   "cell_type": "code",
   "execution_count": 40,
   "id": "8885094a19afd714",
   "metadata": {
    "collapsed": false,
    "jupyter": {
     "outputs_hidden": false
    }
   },
   "outputs": [],
   "source": [
    "#dtc.accuracy(test_data)"
   ]
  },
  {
   "cell_type": "code",
   "execution_count": 41,
   "id": "131efb1e2d466277",
   "metadata": {
    "collapsed": false,
    "jupyter": {
     "outputs_hidden": false
    }
   },
   "outputs": [],
   "source": [
    "#dtc.classify(\"Today was a good flight\")"
   ]
  },
  {
   "cell_type": "markdown",
   "id": "92589a69bbc024e4",
   "metadata": {
    "collapsed": false,
    "jupyter": {
     "outputs_hidden": false
    }
   },
   "source": [
    "## Smaller sample"
   ]
  },
  {
   "cell_type": "code",
   "execution_count": 43,
   "id": "494292e5fe44b30a",
   "metadata": {
    "collapsed": false,
    "jupyter": {
     "outputs_hidden": false
    }
   },
   "outputs": [],
   "source": [
    "small_amout = 100\n",
    "\n",
    "num_negative = int(0.63 * small_amout)\n",
    "num_neutral = int(0.21 * small_amout)\n",
    "num_positive = int(0.16 * small_amout)\n",
    "\n",
    "# Sample the rows for each sentiment category\n",
    "df_negative = df[df['airline_sentiment'] == 'negative'].sample(n=num_negative, random_state=1)\n",
    "df_neutral = df[df['airline_sentiment'] == 'neutral'].sample(n=num_neutral, random_state=1)\n",
    "df_positive = df[df['airline_sentiment'] == 'positive'].sample(n=num_positive, random_state=1)\n",
    "\n",
    "# Combine the samples into a new DataFrame\n",
    "small_df = pd.concat([df_negative, df_neutral, df_positive])\n",
    "\n",
    "# Shuffle the rows in the new DataFrame\n",
    "small_df = small_df.sample(frac=1, random_state=42).reset_index(drop=True)\n",
    "\n",
    "small_train, small_test = train_test_split(small_df, test_size=0.3, random_state=42, shuffle=True)\n",
    "\n",
    "small_train_data = list(small_train[['text_clean', 'airline_sentiment']].itertuples(index=False, name=None))\n",
    "small_test_data = list(small_test[['text_clean', 'airline_sentiment']].itertuples(index=False, name=None))"
   ]
  },
  {
   "cell_type": "markdown",
   "id": "352f2c45c316c937",
   "metadata": {
    "collapsed": false,
    "jupyter": {
     "outputs_hidden": false
    }
   },
   "source": [
    "### NaiveBayesClassifier"
   ]
  },
  {
   "cell_type": "code",
   "execution_count": 45,
   "id": "56fc09b2a0495cc6",
   "metadata": {
    "collapsed": false,
    "jupyter": {
     "outputs_hidden": false
    }
   },
   "outputs": [],
   "source": [
    "from textblob.classifiers import NaiveBayesClassifier\n",
    "\n",
    "small_cl = NaiveBayesClassifier(small_train_data)"
   ]
  },
  {
   "cell_type": "code",
   "execution_count": 46,
   "id": "f9d3f4b3fc7a6b4b",
   "metadata": {
    "collapsed": false,
    "jupyter": {
     "outputs_hidden": false
    }
   },
   "outputs": [
    {
     "data": {
      "text/plain": [
       "0.7"
      ]
     },
     "execution_count": 46,
     "metadata": {},
     "output_type": "execute_result"
    }
   ],
   "source": [
    "small_cl.accuracy(small_test_data)"
   ]
  },
  {
   "cell_type": "markdown",
   "id": "48a1fb88ca98811c",
   "metadata": {
    "collapsed": false,
    "jupyter": {
     "outputs_hidden": false
    }
   },
   "source": [
    "### MaxEntClassifier"
   ]
  },
  {
   "cell_type": "code",
   "execution_count": 48,
   "id": "96a4b58b3c979ba7",
   "metadata": {
    "collapsed": false,
    "jupyter": {
     "outputs_hidden": false
    }
   },
   "outputs": [],
   "source": [
    "from textblob.classifiers import MaxEntClassifier\n",
    "\n",
    "small_maxent = MaxEntClassifier(small_train_data)"
   ]
  },
  {
   "cell_type": "code",
   "execution_count": 49,
   "id": "d574b6a02a96898b",
   "metadata": {
    "collapsed": false,
    "jupyter": {
     "outputs_hidden": false
    }
   },
   "outputs": [
    {
     "name": "stdout",
     "output_type": "stream",
     "text": [
      "  ==> Training (100 iterations)\n",
      "\n",
      "      Iteration    Log Likelihood    Accuracy\n",
      "      ---------------------------------------\n",
      "             1          -1.09861        0.200\n",
      "             2          -0.30958        0.986\n",
      "             3          -0.11735        0.986\n",
      "             4          -0.06079        0.986\n",
      "             5          -0.03762        0.986\n",
      "             6          -0.02578        0.986\n",
      "             7          -0.01909        0.986\n",
      "             8          -0.01514        0.986\n",
      "             9          -0.01276        0.986\n",
      "            10          -0.01132        0.986\n",
      "            11          -0.01043        0.986\n",
      "            12          -0.00988        0.986\n",
      "            13          -0.00954        0.986\n",
      "            14          -0.00932        0.986\n",
      "            15          -0.00919        0.986\n",
      "            16          -0.00910        0.986\n",
      "            17          -0.00904        0.986\n",
      "            18          -0.00900        0.986\n",
      "            19          -0.00897        0.986\n",
      "            20          -0.00896        0.986\n",
      "            21          -0.00894        0.986\n",
      "            22          -0.00893        0.986\n",
      "            23          -0.00893        0.986\n",
      "            24          -0.00892        0.986\n",
      "            25          -0.00892        0.986\n",
      "            26          -0.00892        0.986\n",
      "            27          -0.00892        0.986\n",
      "            28          -0.00892        0.986\n",
      "            29          -0.00891        0.986\n",
      "            30          -0.00891        0.986\n",
      "            31          -0.00891        0.986\n",
      "            32          -0.00891        0.986\n",
      "            33          -0.00891        0.986\n",
      "            34          -0.00891        0.986\n",
      "            35          -0.00891        0.986\n",
      "            36          -0.00891        0.986\n",
      "            37          -0.00891        0.986\n",
      "            38          -0.00891        0.986\n",
      "            39          -0.00891        0.986\n",
      "            40          -0.00891        0.986\n",
      "            41          -0.00891        0.986\n",
      "            42          -0.00891        0.986\n",
      "            43          -0.00891        0.986\n",
      "            44          -0.00891        0.986\n",
      "            45          -0.00891        0.986\n",
      "            46          -0.00891        0.986\n",
      "            47          -0.00891        0.986\n",
      "            48          -0.00891        0.986\n",
      "            49          -0.00891        0.986\n",
      "            50          -0.00891        0.986\n",
      "            51          -0.00891        0.986\n",
      "            52          -0.00891        0.986\n",
      "            53          -0.00891        0.986\n",
      "            54          -0.00891        0.986\n",
      "            55          -0.00891        0.986\n",
      "            56          -0.00891        0.986\n",
      "            57          -0.00891        0.986\n",
      "            58          -0.00891        0.986\n",
      "            59          -0.00891        0.986\n",
      "            60          -0.00891        0.986\n",
      "            61          -0.00891        0.986\n",
      "            62          -0.00891        0.986\n",
      "            63          -0.00891        0.986\n",
      "            64          -0.00891        0.986\n",
      "            65          -0.00891        0.986\n",
      "            66          -0.00891        0.986\n",
      "            67          -0.00891        0.986\n",
      "            68          -0.00891        0.986\n",
      "            69          -0.00891        0.986\n",
      "            70          -0.00891        0.986\n",
      "            71          -0.00891        0.986\n",
      "            72          -0.00891        0.986\n",
      "            73          -0.00891        0.986\n",
      "            74          -0.00891        0.986\n",
      "            75          -0.00891        0.986\n",
      "            76          -0.00891        0.986\n",
      "            77          -0.00891        0.986\n",
      "            78          -0.00891        0.986\n",
      "            79          -0.00891        0.986\n",
      "            80          -0.00891        0.986\n",
      "            81          -0.00891        0.986\n",
      "            82          -0.00891        0.986\n",
      "            83          -0.00891        0.986\n",
      "            84          -0.00891        0.986\n",
      "            85          -0.00891        0.986\n",
      "            86          -0.00891        0.986\n",
      "            87          -0.00891        0.986\n",
      "            88          -0.00891        0.986\n",
      "            89          -0.00891        0.986\n",
      "            90          -0.00891        0.986\n",
      "            91          -0.00891        0.986\n",
      "            92          -0.00891        0.986\n",
      "            93          -0.00891        0.986\n",
      "            94          -0.00891        0.986\n",
      "            95          -0.00891        0.986\n",
      "            96          -0.00891        0.986\n",
      "            97          -0.00891        0.986\n",
      "            98          -0.00891        0.986\n",
      "            99          -0.00891        0.986\n",
      "         Final          -0.00891        0.986\n"
     ]
    },
    {
     "data": {
      "text/plain": [
       "0.6666666666666666"
      ]
     },
     "execution_count": 49,
     "metadata": {},
     "output_type": "execute_result"
    }
   ],
   "source": [
    "small_maxent.accuracy(small_test_data)"
   ]
  },
  {
   "cell_type": "markdown",
   "id": "6e2b97afeb70ad7b",
   "metadata": {
    "collapsed": false,
    "jupyter": {
     "outputs_hidden": false
    }
   },
   "source": [
    "### DecisionTreeClassifier"
   ]
  },
  {
   "cell_type": "code",
   "execution_count": 51,
   "id": "8d7fae608710a109",
   "metadata": {
    "collapsed": false,
    "jupyter": {
     "outputs_hidden": false
    }
   },
   "outputs": [],
   "source": [
    "from textblob.classifiers import DecisionTreeClassifier\n",
    "\n",
    "small_dtc = DecisionTreeClassifier(small_train_data)"
   ]
  },
  {
   "cell_type": "code",
   "execution_count": 52,
   "id": "b64ac1dc30ad8541",
   "metadata": {
    "collapsed": false,
    "jupyter": {
     "outputs_hidden": false
    }
   },
   "outputs": [
    {
     "data": {
      "text/plain": [
       "0.5"
      ]
     },
     "execution_count": 52,
     "metadata": {},
     "output_type": "execute_result"
    }
   ],
   "source": [
    "small_dtc.accuracy(small_test_data)"
   ]
  },
  {
   "cell_type": "code",
   "execution_count": 53,
   "id": "87bc38eacf1bc7aa",
   "metadata": {
    "collapsed": false,
    "jupyter": {
     "outputs_hidden": false
    }
   },
   "outputs": [
    {
     "data": {
      "text/plain": [
       "655"
      ]
     },
     "execution_count": 53,
     "metadata": {},
     "output_type": "execute_result"
    }
   ],
   "source": [
    "df['text_clean'].str.contains(\"not\",regex=False).sum()"
   ]
  },
  {
   "cell_type": "code",
   "execution_count": null,
   "id": "73e223307bc4f87e",
   "metadata": {
    "collapsed": false,
    "jupyter": {
     "outputs_hidden": false
    }
   },
   "outputs": [],
   "source": []
  }
 ],
 "metadata": {
  "kernelspec": {
   "display_name": "Python 3 (ipykernel)",
   "language": "python",
   "name": "python3"
  },
  "language_info": {
   "codemirror_mode": {
    "name": "ipython",
    "version": 3
   },
   "file_extension": ".py",
   "mimetype": "text/x-python",
   "name": "python",
   "nbconvert_exporter": "python",
   "pygments_lexer": "ipython3",
   "version": "3.11.8"
  }
 },
 "nbformat": 4,
 "nbformat_minor": 5
}
